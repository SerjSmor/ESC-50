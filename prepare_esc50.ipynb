{
 "cells": [
  {
   "cell_type": "code",
   "execution_count": 3,
   "metadata": {},
   "outputs": [],
   "source": [
    "# \n",
    "\n",
    "import pandas as pd \n",
    "import librosa\n",
    "import os\n",
    "import numpy as np\n",
    "from numpy import asarray\n",
    "from numpy import savetxt\n",
    "from numpy import loadtxt\n",
    "\n",
    "import matplotlib.pyplot as plt\n",
    "from pyAudioAnalysis import audioBasicIO\n",
    "from pyAudioAnalysis import ShortTermFeatures\n",
    "\n",
    "BASE_FOLDER = 'audio'\n",
    "CSV_FOLDER = 'csvs'\n"
   ]
  },
  {
   "cell_type": "code",
   "execution_count": 4,
   "metadata": {},
   "outputs": [],
   "source": [
    "# all meta data\n",
    "meta = pd.read_csv('meta/esc50.csv')"
   ]
  },
  {
   "cell_type": "code",
   "execution_count": 10,
   "metadata": {},
   "outputs": [],
   "source": [
    "def get_features_means(path, window=0.05, step=0.25):\n",
    "    [Fs, x] = audioBasicIO.read_audio_file(full_path)\n",
    "    F, f_names = ShortTermFeatures.feature_extraction(x, Fs, window*Fs, step*Fs)\n",
    "    return np.mean(F, axis=1), f_names\n",
    "\n"
   ]
  },
  {
   "cell_type": "code",
   "execution_count": 6,
   "metadata": {},
   "outputs": [
    {
     "name": "stdout",
     "output_type": "stream",
     "text": [
      "filename    1-100032-A-0.wav\n",
      "fold                       1\n",
      "target                     0\n",
      "category                 dog\n",
      "esc10                   True\n",
      "src_file              100032\n",
      "take                       A\n",
      "Name: 0, dtype: object\n",
      "dog                 40\n",
      "frog                40\n",
      "glass_breaking      40\n",
      "chirping_birds      40\n",
      "hand_saw            40\n",
      "crow                40\n",
      "hen                 40\n",
      "crying_baby         40\n",
      "laughing            40\n",
      "engine              40\n",
      "keyboard_typing     40\n",
      "door_wood_creaks    40\n",
      "can_opening         40\n",
      "helicopter          40\n",
      "water_drops         40\n",
      "fireworks           40\n",
      "drinking_sipping    40\n",
      "snoring             40\n",
      "crickets            40\n",
      "pouring_water       40\n",
      "vacuum_cleaner      40\n",
      "crackling_fire      40\n",
      "airplane            40\n",
      "chainsaw            40\n",
      "train               40\n",
      "footsteps           40\n",
      "sneezing            40\n",
      "sea_waves           40\n",
      "breathing           40\n",
      "clapping            40\n",
      "cat                 40\n",
      "sheep               40\n",
      "mouse_click         40\n",
      "church_bells        40\n",
      "rain                40\n",
      "washing_machine     40\n",
      "wind                40\n",
      "cow                 40\n",
      "clock_alarm         40\n",
      "pig                 40\n",
      "thunderstorm        40\n",
      "car_horn            40\n",
      "brushing_teeth      40\n",
      "coughing            40\n",
      "clock_tick          40\n",
      "siren               40\n",
      "door_wood_knock     40\n",
      "insects             40\n",
      "toilet_flush        40\n",
      "rooster             40\n",
      "Name: category, dtype: int64\n"
     ]
    }
   ],
   "source": [
    "print(meta.iloc[0])\n",
    "categories = meta['category']\n",
    "print(categories.value_counts())"
   ]
  },
  {
   "cell_type": "code",
   "execution_count": 7,
   "metadata": {},
   "outputs": [
    {
     "name": "stdout",
     "output_type": "stream",
     "text": [
      "1-100032-A-0.wav\n"
     ]
    },
    {
     "data": {
      "text/plain": [
       "2000"
      ]
     },
     "execution_count": 7,
     "metadata": {},
     "output_type": "execute_result"
    }
   ],
   "source": [
    "# all_features_mean = np.mean(F, axis=1)\n",
    "# for each file save all features \n",
    "filenames = [x for x in meta['filename']]\n",
    "print(filenames[0])\n",
    "len(filenames)"
   ]
  },
  {
   "cell_type": "code",
   "execution_count": 11,
   "metadata": {},
   "outputs": [
    {
     "data": {
      "text/plain": [
       "(array([ 5.94373866e-03,  1.39346351e-03,  3.11433312e-01,  1.06288669e-02,\n",
       "         1.05889588e-02,  3.51528704e-02,  2.24070629e-03,  8.62068966e-03,\n",
       "        -4.84470221e+01, -2.34449032e-01, -2.04631568e-01,  5.53270057e-02,\n",
       "         4.57109316e-02,  3.71470441e-02, -8.13664681e-02,  1.36792224e-02,\n",
       "         3.13885758e-02, -1.34165090e-02, -1.90663827e-02,  2.57283723e-02,\n",
       "        -3.39445994e-02,  3.05371574e-04,  4.25360391e-04,  1.05622676e-03,\n",
       "         9.52823188e-04,  1.50297907e-01,  5.31016596e-04,  6.16056748e-05,\n",
       "         2.88572252e-05,  1.42550472e-04,  1.06223578e-04,  1.91021227e-03,\n",
       "         5.28212285e-03,  4.29684865e-02,  0.00000000e+00, -1.73472348e-19,\n",
       "         0.00000000e+00,  0.00000000e+00,  0.00000000e+00,  0.00000000e+00,\n",
       "         0.00000000e+00,  0.00000000e+00,  0.00000000e+00,  0.00000000e+00,\n",
       "         0.00000000e+00, -2.08166817e-18,  0.00000000e+00,  0.00000000e+00,\n",
       "         0.00000000e+00,  1.38777878e-18,  0.00000000e+00,  0.00000000e+00,\n",
       "         0.00000000e+00,  0.00000000e+00,  0.00000000e+00,  0.00000000e+00,\n",
       "         0.00000000e+00,  0.00000000e+00, -2.16840434e-20,  0.00000000e+00,\n",
       "         1.62630326e-20,  0.00000000e+00,  0.00000000e+00, -5.42101086e-21,\n",
       "         0.00000000e+00, -1.73472348e-19,  0.00000000e+00, -1.73472348e-19]),\n",
       " ['zcr',\n",
       "  'energy',\n",
       "  'energy_entropy',\n",
       "  'spectral_centroid',\n",
       "  'spectral_spread',\n",
       "  'spectral_entropy',\n",
       "  'spectral_flux',\n",
       "  'spectral_rolloff',\n",
       "  'mfcc_1',\n",
       "  'mfcc_2',\n",
       "  'mfcc_3',\n",
       "  'mfcc_4',\n",
       "  'mfcc_5',\n",
       "  'mfcc_6',\n",
       "  'mfcc_7',\n",
       "  'mfcc_8',\n",
       "  'mfcc_9',\n",
       "  'mfcc_10',\n",
       "  'mfcc_11',\n",
       "  'mfcc_12',\n",
       "  'mfcc_13',\n",
       "  'chroma_1',\n",
       "  'chroma_2',\n",
       "  'chroma_3',\n",
       "  'chroma_4',\n",
       "  'chroma_5',\n",
       "  'chroma_6',\n",
       "  'chroma_7',\n",
       "  'chroma_8',\n",
       "  'chroma_9',\n",
       "  'chroma_10',\n",
       "  'chroma_11',\n",
       "  'chroma_12',\n",
       "  'chroma_std',\n",
       "  'delta zcr',\n",
       "  'delta energy',\n",
       "  'delta energy_entropy',\n",
       "  'delta spectral_centroid',\n",
       "  'delta spectral_spread',\n",
       "  'delta spectral_entropy',\n",
       "  'delta spectral_flux',\n",
       "  'delta spectral_rolloff',\n",
       "  'delta mfcc_1',\n",
       "  'delta mfcc_2',\n",
       "  'delta mfcc_3',\n",
       "  'delta mfcc_4',\n",
       "  'delta mfcc_5',\n",
       "  'delta mfcc_6',\n",
       "  'delta mfcc_7',\n",
       "  'delta mfcc_8',\n",
       "  'delta mfcc_9',\n",
       "  'delta mfcc_10',\n",
       "  'delta mfcc_11',\n",
       "  'delta mfcc_12',\n",
       "  'delta mfcc_13',\n",
       "  'delta chroma_1',\n",
       "  'delta chroma_2',\n",
       "  'delta chroma_3',\n",
       "  'delta chroma_4',\n",
       "  'delta chroma_5',\n",
       "  'delta chroma_6',\n",
       "  'delta chroma_7',\n",
       "  'delta chroma_8',\n",
       "  'delta chroma_9',\n",
       "  'delta chroma_10',\n",
       "  'delta chroma_11',\n",
       "  'delta chroma_12',\n",
       "  'delta chroma_std'])"
      ]
     },
     "execution_count": 11,
     "metadata": {},
     "output_type": "execute_result"
    }
   ],
   "source": [
    "# show array \n",
    "example_file = filenames[0]\n",
    "full_path = os.path.join(BASE_FOLDER, example_file)\n",
    "get_features_means(full_path)"
   ]
  },
  {
   "cell_type": "code",
   "execution_count": 12,
   "metadata": {},
   "outputs": [],
   "source": [
    "\n",
    "\n",
    "for filename in filenames:\n",
    "    full_path = os.path.join(BASE_FOLDER, filename)\n",
    "    means, f_names = get_features_means(full_path)\n",
    "    means = asarray(means)\n",
    "    export_path = os.path.join(CSV_FOLDER, filename)\n",
    "    savetxt(export_path, means, delimiter=',')\n",
    "\n",
    "    "
   ]
  }
 ],
 "metadata": {
  "kernelspec": {
   "display_name": "Python 3",
   "language": "python",
   "name": "python3"
  },
  "language_info": {
   "codemirror_mode": {
    "name": "ipython",
    "version": 3
   },
   "file_extension": ".py",
   "mimetype": "text/x-python",
   "name": "python",
   "nbconvert_exporter": "python",
   "pygments_lexer": "ipython3",
   "version": "3.7.6"
  }
 },
 "nbformat": 4,
 "nbformat_minor": 2
}
